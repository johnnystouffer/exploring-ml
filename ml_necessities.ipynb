{
 "cells": [
  {
   "cell_type": "code",
   "execution_count": null,
   "metadata": {},
   "outputs": [],
   "source": [
    "import matplotlib.pyplot as plt\n",
    "import numpy as np\n",
    "\n",
    "def split(x, y, ratio = 0.8):\n",
    "    length = len(x)\n",
    "    train_end = int(length * ratio)\n",
    "    \n",
    "    train = x[:train_end]\n",
    "    test = "
   ]
  }
 ],
 "metadata": {
  "language_info": {
   "name": "python"
  },
  "orig_nbformat": 4
 },
 "nbformat": 4,
 "nbformat_minor": 2
}
